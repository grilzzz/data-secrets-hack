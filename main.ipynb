{
 "cells": [
  {
   "cell_type": "code",
   "execution_count": 1701,
   "id": "f6814a9e-72c1-4ce0-aafc-e3094da43bf8",
   "metadata": {
    "tags": []
   },
   "outputs": [],
   "source": [
    "import pandas as pd\n",
    "import numpy as np\n",
    "from sklearn.linear_model import LinearRegression\n",
    "from sklearn.metrics import roc_auc_score\n",
    "from sklearn.model_selection import KFold, StratifiedKFold\n",
    "from xgboost import XGBClassifier\n",
    "from catboost import CatBoostClassifier"
   ]
  },
  {
   "cell_type": "code",
   "execution_count": 1702,
   "id": "e637158c-5449-4ba2-b6c0-f0817ef87686",
   "metadata": {
    "tags": []
   },
   "outputs": [],
   "source": [
    "orders = pd.read_csv(\"data/orders.csv\")\n",
    "train = pd.read_csv(\"data/train_target.csv\")\n",
    "october = pd.read_csv(\"data/clients_promo_october.csv\")\n",
    "mobile = pd.read_csv(\"data/mobile_events.csv\")\n",
    "test = pd.read_csv(\"data/test.csv\")\n",
    "submit = pd.read_csv(\"data/submit.csv\")"
   ]
  },
  {
   "cell_type": "code",
   "execution_count": 1703,
   "id": "0c538feb-367e-4e42-8e25-8996e1fd17ce",
   "metadata": {
    "tags": []
   },
   "outputs": [],
   "source": [
    "orders['Date'] = pd.to_datetime(orders['Date'])"
   ]
  },
  {
   "cell_type": "code",
   "execution_count": 1704,
   "id": "d95618ab-7054-4fef-867b-71472330bac9",
   "metadata": {
    "tags": []
   },
   "outputs": [],
   "source": [
    "# Установим текущую дату (для примера 2023-11-01)\n",
    "current_date = pd.to_datetime('2023-11-01')\n",
    "\n",
    "# Функция для создания признаков из дат заказов для одного пользователя\n",
    "def create_features_for_user(df, current_date):\n",
    "    features = {}\n",
    "    ClientUUId = df['ClientUUId'].iloc[0]\n",
    "    features['ClientUUId'] = ClientUUId\n",
    "\n",
    "    # Количество заказов за последний месяц\n",
    "    last_month_orders = df[df['Date'] >= current_date - pd.DateOffset(months=1)]\n",
    "    features['num_orders_last_month'] = len(last_month_orders)\n",
    "\n",
    "    # Средний интервал времени между заказами\n",
    "    df = df.sort_values('Date')\n",
    "    df['days_since_last_order'] = df['Date'].diff().dt.days\n",
    "    features['mean_days_between_orders'] = df['days_since_last_order'].mean()\n",
    "\n",
    "    # Время с момента последнего заказа\n",
    "    last_order_date = df['Date'].max()\n",
    "    features['days_since_last_order'] = (current_date - last_order_date).days\n",
    "\n",
    "    # Время от первого до последнего заказа\n",
    "    first_order_date = df['Date'].min()\n",
    "    features['days_between_first_and_last_order'] = (last_order_date - first_order_date).days\n",
    "\n",
    "    # Количество заказов в рабочие дни\n",
    "    df['weekday'] = df['Date'].dt.weekday  # День недели (0 - понедельник, 6 - воскресенье)\n",
    "    workdays_orders = df[df['weekday'].isin([0, 1, 2, 3, 4])]  # Рабочие дни (понедельник - пятница)\n",
    "    features['num_orders_workdays'] = len(workdays_orders)\n",
    "\n",
    "    # Время с момента последнего использования промокода\n",
    "    if df['apply_promo'].sum() == 0:\n",
    "        features['days_since_last_promo'] = 1000\n",
    "    else:\n",
    "        last_promo_date = df[df['apply_promo'] == 1]['Date'].max()\n",
    "        features['days_since_last_promo'] = (current_date - last_promo_date).days\n",
    "\n",
    "    # Промокоды за последний месяц\n",
    "    last_month_promo_orders = last_month_orders[last_month_orders['apply_promo'] == 1]\n",
    "    features['promo_used_last_month'] = int(len(last_month_promo_orders) > 0)\n",
    "\n",
    "    return features\n",
    "\n",
    "# Применение функции к каждому пользователю\n",
    "user_groups = orders.groupby('ClientUUId')\n",
    "features_list = [create_features_for_user(group, current_date) for name, group in user_groups]\n",
    "\n",
    "# Создание DataFrame с признаками\n",
    "features_df = pd.DataFrame(features_list)\n",
    "\n",
    "features_df.to_csv(\"data/date_features.csv\", index=False)"
   ]
  },
  {
   "cell_type": "code",
   "execution_count": null,
   "id": "0e21b2e4-480e-467b-be91-206bc744b7d5",
   "metadata": {},
   "outputs": [],
   "source": [
    "dates = pd.read_csv('data/date_features.csv')"
   ]
  },
  {
   "cell_type": "code",
   "execution_count": 1705,
   "id": "83ce6ebd-1884-4511-897f-305dc3bb1c5f",
   "metadata": {
    "tags": []
   },
   "outputs": [],
   "source": [
    "mobile = pd.get_dummies(mobile, columns=['EventName', 'Platform'], dtype=int, prefix='')"
   ]
  },
  {
   "cell_type": "code",
   "execution_count": 1706,
   "id": "03b64b8b-3321-4497-ba09-5f811f4091dd",
   "metadata": {
    "tags": []
   },
   "outputs": [],
   "source": [
    "# Группируем по пользователю и считаем сумму по каждому указанному столбцу\n",
    "mobile = mobile.groupby('ClientUUId').agg(\n",
    "    count=('VisitToken', 'count'),\n",
    "    _add_to_cart_sum=('_add_to_cart', 'sum'),\n",
    "    \n",
    "    param1=('_apply_personal_offer', 'mean'),\n",
    "    obm1=('_open_bonusaction', 'mean'),\n",
    "    \n",
    "    _apply_personal_offer_sum=('_apply_personal_offer', 'sum'),\n",
    "    _close_app_sum=('_close_app', 'sum'),\n",
    "    _create_order_sum=('_create_order', 'sum'),\n",
    "    _open_app_sum=('_open_app', 'sum'),\n",
    "    _open_bonusaction_sum=('_open_bonusaction', 'sum'),\n",
    "    _open_product_card_sum=('_open_product_card', 'sum'),\n",
    "    _remove_from_cart_sum=('_remove_from_cart', 'sum'),\n",
    "    _screen_cart_sum=('_screen_cart', 'sum'),\n",
    "    _screen_menu_sum=('_screen_menu', 'sum'),\n",
    "    _screen_profile_sum=('_screen_profile', 'sum'),\n",
    "    _android_sum=('_android', 'sum'),\n",
    "    _ios_sum=('_ios', 'sum')\n",
    ").reset_index()"
   ]
  },
  {
   "cell_type": "code",
   "execution_count": 1707,
   "id": "21ea57e0-0965-4007-8902-75352fc2d8a0",
   "metadata": {
    "tags": []
   },
   "outputs": [],
   "source": [
    "# колонки, которые ухудшают скор для некоторых моделей\n",
    "\n",
    "xg_cols = []  \n",
    "cat_cols = ['aaa', 'bbb']"
   ]
  },
  {
   "cell_type": "code",
   "execution_count": 1708,
   "id": "c1951555-d6e1-4418-8b94-0fac08224bb1",
   "metadata": {
    "tags": []
   },
   "outputs": [],
   "source": [
    "train['n_promos'] = train.groupby('ClientUUId')['LocalEndDate'].transform('count')\n",
    "test['n_promos'] = train.groupby('ClientUUId')['LocalEndDate'].transform('count')\n",
    "\n",
    "train['avg_OrderPrice'] = train.groupby('ClientUUId')['OrderPrice'].transform('mean')\n",
    "train['min_OrderPrice'] = train.groupby('ClientUUId')['OrderPrice'].transform('min')\n",
    "train['avg_disc'] = train.groupby('ClientUUId')['Discount'].transform('mean')\n",
    "train['max_disc'] = train.groupby('ClientUUId')['Discount'].transform('max')\n",
    "\n",
    "\n",
    "test['avg_OrderPrice'] = test.groupby('ClientUUId')['OrderPrice'].transform('mean')\n",
    "test['min_OrderPrice'] = test.groupby('ClientUUId')['OrderPrice'].transform('min')\n",
    "test['avg_disc'] = test.groupby('ClientUUId')['Discount'].transform('mean')\n",
    "test['max_disc'] = test.groupby('ClientUUId')['Discount'].transform('max')\n",
    "\n",
    "\n",
    "train['use_for_delivery'] = (train['OrderType'] == '1,2,3').astype(int)\n",
    "train.drop(['OrderType'], axis=1, inplace=True)\n",
    "test['use_for_delivery'] = (test['OrderType'] == '1,2,3').astype(int)\n",
    "test.drop(['OrderType'], axis=1, inplace=True)\n",
    "\n",
    "\n",
    "train['avg_del'] = train.groupby('ClientUUId')['use_for_delivery'].transform('mean')\n",
    "train['max_del'] = train.groupby('ClientUUId')['use_for_delivery'].transform('max')\n",
    "test['avg_del'] = test.groupby('ClientUUId')['use_for_delivery'].transform('mean')\n",
    "test['max_del'] = test.groupby('ClientUUId')['use_for_delivery'].transform('max')\n",
    "\n",
    "\n",
    "train['a'] = train.OrderPrice > train.min_OrderPrice\n",
    "train['b'] = train.Discount < train.max_disc\n",
    "train['c'] = train.use_for_delivery < train.max_del\n",
    "test['a'] = test.OrderPrice > test.min_OrderPrice\n",
    "test['b'] = test.Discount < test.max_disc\n",
    "test['c'] = test.use_for_delivery < test.max_del"
   ]
  },
  {
   "cell_type": "code",
   "execution_count": 1709,
   "id": "f6c6415f-ebb4-429b-a7c7-23e14e02e54e",
   "metadata": {
    "tags": []
   },
   "outputs": [],
   "source": [
    "orders[['price_with_discont', 'price']] = orders.groupby(['OrderUUId'])[['ProductTotalPrice', 'MenuPrice']].transform(sum)"
   ]
  },
  {
   "cell_type": "code",
   "execution_count": 1710,
   "id": "3c1f3b7d-93c5-4d3a-bf50-692b9127e637",
   "metadata": {
    "tags": []
   },
   "outputs": [],
   "source": [
    "prices = orders.groupby(['ClientUUId'])['MenuPrice'].agg([\n",
    "    'mean',\n",
    "    'std'\n",
    "]).reset_index()\n",
    "cats = pd.get_dummies(orders[['ClientUUId', 'CategoryId']], columns=['CategoryId'], dtype=int).groupby(['ClientUUId']).mean()"
   ]
  },
  {
   "cell_type": "code",
   "execution_count": 1711,
   "id": "263c2a02-77f4-48ba-8195-d03881514a8b",
   "metadata": {
    "tags": []
   },
   "outputs": [],
   "source": [
    "orders.OrderType = (orders.OrderType == 1).astype(int)\n",
    "orders.OrderState = (orders.OrderState == 4).astype(int)"
   ]
  },
  {
   "cell_type": "code",
   "execution_count": 1712,
   "id": "971d2450-d039-4db6-ab6d-a318935780a0",
   "metadata": {
    "tags": []
   },
   "outputs": [],
   "source": [
    "orders['in_delivery'] = (orders.deliverySectorId == 0).astype(int)"
   ]
  },
  {
   "cell_type": "code",
   "execution_count": 1713,
   "id": "fc4f3c06-a7d6-4add-bb4c-52218fa9d006",
   "metadata": {},
   "outputs": [],
   "source": [
    "orders.drop(['ProductTotalPrice', 'MenuPrice', 'CategoryId', 'ProductUUId', 'addressId', 'deliverySectorId'], axis=1, inplace=True)"
   ]
  },
  {
   "cell_type": "code",
   "execution_count": 1714,
   "id": "7f70c7f7-011e-4fc2-b722-5551fefd9d95",
   "metadata": {
    "tags": []
   },
   "outputs": [],
   "source": [
    "orders.drop_duplicates(inplace=True)"
   ]
  },
  {
   "cell_type": "code",
   "execution_count": 1715,
   "id": "ee3c0fbb-dd60-4028-a8d9-50a0ff4ec790",
   "metadata": {
    "tags": []
   },
   "outputs": [],
   "source": [
    "orders = pd.get_dummies(orders, columns=['OrderPaymentType'], prefix='pay')\n",
    "\n",
    "orders['discont'] = orders.price - orders.price_with_discont"
   ]
  },
  {
   "cell_type": "code",
   "execution_count": 1716,
   "id": "0c9b82b7-8d20-419a-9779-6b9fcc6353ea",
   "metadata": {
    "tags": []
   },
   "outputs": [],
   "source": [
    "orders = orders.groupby('ClientUUId').agg(\n",
    "    avg_discont=('discont', 'mean'),\n",
    "    sum_discont=('discont', 'sum'),\n",
    "    aaa=('in_delivery', 'mean'),\n",
    "    bbb=('in_delivery', 'sum'),\n",
    "    apply_promo_mean1=('apply_promo', 'mean'),\n",
    "    \n",
    "    ClientOrderNumber_max=('ClientOrderNumber', 'max'),\n",
    "    ClientOrderNumber_min=('ClientOrderNumber', 'min'),\n",
    "    ClientOrderNumber_avg=('ClientOrderNumber', 'mean'),\n",
    "    OrderState_mean=('OrderState', 'mean'),\n",
    "    OrderType_mean=('OrderType', 'mean'),\n",
    "    pay_0_count=('pay_0', 'sum'),\n",
    "    pay_1_count=('pay_1', 'sum'),\n",
    "    pay_2_count=('pay_2', 'sum'),\n",
    "    OrderTotalPrice_mean=('OrderTotalPrice', 'mean'),\n",
    "    OrderTotalPrice_std=('OrderTotalPrice', 'std'),\n",
    "    OrderTotalPrice_sum=('OrderTotalPrice', 'sum'),\n",
    "    price_mean=('price', 'mean'),\n",
    "    price_sum=('price', 'sum'),\n",
    "    apply_promo_mean=('apply_promo', 'mean'),\n",
    "    apply_promo_sum=('apply_promo', 'sum'),\n",
    ").reset_index()\n"
   ]
  },
  {
   "cell_type": "code",
   "execution_count": 1717,
   "id": "d784ac31-d089-4690-8dcd-b0d4c04511d8",
   "metadata": {
    "tags": []
   },
   "outputs": [],
   "source": [
    "orders = pd.merge(pd.merge(orders, cats, on='ClientUUId'), prices, on='ClientUUId')"
   ]
  },
  {
   "cell_type": "code",
   "execution_count": 1718,
   "id": "7c6e5ef2-13d3-40e4-8300-384a915e4612",
   "metadata": {
    "tags": []
   },
   "outputs": [
    {
     "data": {
      "text/html": [
       "<div>\n",
       "<style scoped>\n",
       "    .dataframe tbody tr th:only-of-type {\n",
       "        vertical-align: middle;\n",
       "    }\n",
       "\n",
       "    .dataframe tbody tr th {\n",
       "        vertical-align: top;\n",
       "    }\n",
       "\n",
       "    .dataframe thead th {\n",
       "        text-align: right;\n",
       "    }\n",
       "</style>\n",
       "<table border=\"1\" class=\"dataframe\">\n",
       "  <thead>\n",
       "    <tr style=\"text-align: right;\">\n",
       "      <th></th>\n",
       "      <th>ClientUUId</th>\n",
       "      <th>Id</th>\n",
       "      <th>LocalBeginDate</th>\n",
       "      <th>LocalEndDate</th>\n",
       "      <th>OrderPrice</th>\n",
       "      <th>Discount</th>\n",
       "      <th>n_promos</th>\n",
       "      <th>avg_OrderPrice</th>\n",
       "      <th>min_OrderPrice</th>\n",
       "      <th>avg_disc</th>\n",
       "      <th>max_disc</th>\n",
       "      <th>use_for_delivery</th>\n",
       "      <th>avg_del</th>\n",
       "      <th>max_del</th>\n",
       "      <th>a</th>\n",
       "      <th>b</th>\n",
       "      <th>c</th>\n",
       "    </tr>\n",
       "  </thead>\n",
       "  <tbody>\n",
       "    <tr>\n",
       "      <th>0</th>\n",
       "      <td>000D3A20F23EA95811E7C0A95563344E</td>\n",
       "      <td>7</td>\n",
       "      <td>2023-11-02T00:00:00Z</td>\n",
       "      <td>2023-11-05T23:59:00Z</td>\n",
       "      <td>799</td>\n",
       "      <td>200</td>\n",
       "      <td>2</td>\n",
       "      <td>799.0</td>\n",
       "      <td>799</td>\n",
       "      <td>200.0</td>\n",
       "      <td>200</td>\n",
       "      <td>0</td>\n",
       "      <td>0.0</td>\n",
       "      <td>0</td>\n",
       "      <td>False</td>\n",
       "      <td>False</td>\n",
       "      <td>False</td>\n",
       "    </tr>\n",
       "    <tr>\n",
       "      <th>1</th>\n",
       "      <td>000D3A20F23EA95811E7C7892A0CE261</td>\n",
       "      <td>5</td>\n",
       "      <td>2023-11-02T00:00:00Z</td>\n",
       "      <td>2023-11-05T23:59:00Z</td>\n",
       "      <td>699</td>\n",
       "      <td>200</td>\n",
       "      <td>2</td>\n",
       "      <td>699.0</td>\n",
       "      <td>699</td>\n",
       "      <td>200.0</td>\n",
       "      <td>200</td>\n",
       "      <td>0</td>\n",
       "      <td>0.0</td>\n",
       "      <td>0</td>\n",
       "      <td>False</td>\n",
       "      <td>False</td>\n",
       "      <td>False</td>\n",
       "    </tr>\n",
       "    <tr>\n",
       "      <th>2</th>\n",
       "      <td>000D3A20F23EA95811E7CD686C396528</td>\n",
       "      <td>6</td>\n",
       "      <td>2023-11-02T00:00:00Z</td>\n",
       "      <td>2023-11-05T23:59:00Z</td>\n",
       "      <td>799</td>\n",
       "      <td>20</td>\n",
       "      <td>2</td>\n",
       "      <td>799.0</td>\n",
       "      <td>799</td>\n",
       "      <td>20.0</td>\n",
       "      <td>20</td>\n",
       "      <td>0</td>\n",
       "      <td>0.0</td>\n",
       "      <td>0</td>\n",
       "      <td>False</td>\n",
       "      <td>False</td>\n",
       "      <td>False</td>\n",
       "    </tr>\n",
       "    <tr>\n",
       "      <th>3</th>\n",
       "      <td>000D3A20F23EA95911E7CEA8C574EDAE</td>\n",
       "      <td>5</td>\n",
       "      <td>2023-11-02T00:00:00Z</td>\n",
       "      <td>2023-11-05T23:59:00Z</td>\n",
       "      <td>799</td>\n",
       "      <td>200</td>\n",
       "      <td>2</td>\n",
       "      <td>1024.0</td>\n",
       "      <td>799</td>\n",
       "      <td>200.0</td>\n",
       "      <td>200</td>\n",
       "      <td>0</td>\n",
       "      <td>0.5</td>\n",
       "      <td>1</td>\n",
       "      <td>False</td>\n",
       "      <td>False</td>\n",
       "      <td>True</td>\n",
       "    </tr>\n",
       "    <tr>\n",
       "      <th>4</th>\n",
       "      <td>000D3A20F23EA95911E7D4F05C59C978</td>\n",
       "      <td>7</td>\n",
       "      <td>2023-11-02T00:00:00Z</td>\n",
       "      <td>2023-11-05T23:59:00Z</td>\n",
       "      <td>799</td>\n",
       "      <td>200</td>\n",
       "      <td>2</td>\n",
       "      <td>799.0</td>\n",
       "      <td>799</td>\n",
       "      <td>200.0</td>\n",
       "      <td>200</td>\n",
       "      <td>0</td>\n",
       "      <td>0.0</td>\n",
       "      <td>0</td>\n",
       "      <td>False</td>\n",
       "      <td>False</td>\n",
       "      <td>False</td>\n",
       "    </tr>\n",
       "  </tbody>\n",
       "</table>\n",
       "</div>"
      ],
      "text/plain": [
       "                         ClientUUId  Id        LocalBeginDate  \\\n",
       "0  000D3A20F23EA95811E7C0A95563344E   7  2023-11-02T00:00:00Z   \n",
       "1  000D3A20F23EA95811E7C7892A0CE261   5  2023-11-02T00:00:00Z   \n",
       "2  000D3A20F23EA95811E7CD686C396528   6  2023-11-02T00:00:00Z   \n",
       "3  000D3A20F23EA95911E7CEA8C574EDAE   5  2023-11-02T00:00:00Z   \n",
       "4  000D3A20F23EA95911E7D4F05C59C978   7  2023-11-02T00:00:00Z   \n",
       "\n",
       "           LocalEndDate  OrderPrice  Discount  n_promos  avg_OrderPrice  \\\n",
       "0  2023-11-05T23:59:00Z         799       200         2           799.0   \n",
       "1  2023-11-05T23:59:00Z         699       200         2           699.0   \n",
       "2  2023-11-05T23:59:00Z         799        20         2           799.0   \n",
       "3  2023-11-05T23:59:00Z         799       200         2          1024.0   \n",
       "4  2023-11-05T23:59:00Z         799       200         2           799.0   \n",
       "\n",
       "   min_OrderPrice  avg_disc  max_disc  use_for_delivery  avg_del  max_del  \\\n",
       "0             799     200.0       200                 0      0.0        0   \n",
       "1             699     200.0       200                 0      0.0        0   \n",
       "2             799      20.0        20                 0      0.0        0   \n",
       "3             799     200.0       200                 0      0.5        1   \n",
       "4             799     200.0       200                 0      0.0        0   \n",
       "\n",
       "       a      b      c  \n",
       "0  False  False  False  \n",
       "1  False  False  False  \n",
       "2  False  False  False  \n",
       "3  False  False   True  \n",
       "4  False  False  False  "
      ]
     },
     "execution_count": 1718,
     "metadata": {},
     "output_type": "execute_result"
    }
   ],
   "source": [
    "train = train.rename(columns={'apply_promo': 'target'})\n",
    "test = test.rename(columns={'apply_promo': 'target'})\n",
    "test.head()"
   ]
  },
  {
   "cell_type": "code",
   "execution_count": 1719,
   "id": "b38bc2a3-23e8-4901-b95b-8b2929a9304a",
   "metadata": {
    "tags": []
   },
   "outputs": [],
   "source": [
    "df = pd.merge(\n",
    "    pd.merge(\n",
    "        pd.merge(\n",
    "            train, orders, on='ClientUUId', how='left'),\n",
    "        mobile, on='ClientUUId', how='left'),\n",
    "    dates.iloc[:, [0, 4, 5, 7]], on='ClientUUId', how='left')\n",
    "df_test = pd.merge(\n",
    "    pd.merge(\n",
    "        pd.merge(\n",
    "            test, orders, on='ClientUUId', how='left'), \n",
    "        mobile, on='ClientUUId', how='left'),\n",
    "    dates.iloc[:, [0, 4, 5, 7]], on='ClientUUId', how='left')"
   ]
  },
  {
   "cell_type": "code",
   "execution_count": 1720,
   "id": "bb9f16ab-e5e1-4967-90e9-4b1790e03275",
   "metadata": {
    "tags": []
   },
   "outputs": [],
   "source": [
    "cat_cols.append('days_between_first_and_last_order')\n",
    "cat_cols.append('num_orders_workdays')\n",
    "xg_cols.append('promo_used_last_month')"
   ]
  },
  {
   "cell_type": "code",
   "execution_count": 1721,
   "id": "0360ff41-b6bb-4e4f-bbb2-930655bc39ac",
   "metadata": {
    "tags": []
   },
   "outputs": [],
   "source": [
    "df = pd.get_dummies(df, columns=['Id'], dtype=int)\n",
    "df_test = pd.get_dummies(df_test, columns=['Id'], dtype=int)"
   ]
  },
  {
   "cell_type": "code",
   "execution_count": 1722,
   "id": "fbf56271-f257-4921-beb6-c0facb75eb01",
   "metadata": {
    "tags": []
   },
   "outputs": [],
   "source": [
    "df.drop(['LocalBeginDate', 'LocalEndDate', 'ClientUUId'], axis=1, inplace=True)\n",
    "df_test.drop(['LocalBeginDate', 'LocalEndDate', 'ClientUUId'], axis=1, inplace=True)"
   ]
  },
  {
   "cell_type": "code",
   "execution_count": 1723,
   "id": "645eb340-1373-4135-a4c8-c3e89557c0e7",
   "metadata": {
    "tags": []
   },
   "outputs": [],
   "source": [
    "df = df.fillna(0)\n",
    "df_test = df_test.fillna(0)"
   ]
  },
  {
   "cell_type": "code",
   "execution_count": 1724,
   "id": "c6299f49-2e00-4b05-ad11-fcf0c56d7086",
   "metadata": {
    "tags": []
   },
   "outputs": [],
   "source": [
    "X = df.drop(['target'], axis=1)\n",
    "y = df['target']\n"
   ]
  },
  {
   "cell_type": "code",
   "execution_count": 1725,
   "id": "ce7eb271-ac02-4b56-9d62-abd5d6906c18",
   "metadata": {
    "tags": []
   },
   "outputs": [],
   "source": [
    "lin_cols = ['days_between_first_and_last_order',\n",
    "                                         'num_orders_workdays',\n",
    "                                         'promo_used_last_month']"
   ]
  },
  {
   "cell_type": "code",
   "execution_count": 1726,
   "id": "95307261-ed5b-4c18-9af9-1d85f88896d9",
   "metadata": {
    "tags": []
   },
   "outputs": [
    {
     "name": "stdout",
     "output_type": "stream",
     "text": [
      "mean score -- 0.7886 0.0028\n",
      "mean score -- 0.779 0.0178\n",
      "difference: -0.009766\n"
     ]
    }
   ],
   "source": [
    "n_splits = 6\n",
    "lin_models = []\n",
    "test_scores = []\n",
    "train_scores = []\n",
    "kf = StratifiedKFold(n_splits=n_splits, shuffle=True, random_state=52)\n",
    "\n",
    "lin_X = X.drop(lin_cols, axis=1)\n",
    "for train_index, test_index in kf.split(X=lin_X, y=y):\n",
    "    X_train, X_test = lin_X.iloc[train_index], lin_X.iloc[test_index]\n",
    "    y_train, y_test = y.iloc[train_index], y.iloc[test_index]\n",
    "    \n",
    "\n",
    "\n",
    "    lin_reg = LinearRegression()\n",
    "    lin_reg.fit(X_train, y_train)\n",
    "\n",
    "    # Сделаем предсказания на тестовой выборке\n",
    "    lin_test = lin_reg.predict(X_test)\n",
    "    lin_train = lin_reg.predict(X_train)\n",
    "    \n",
    "    test_score = roc_auc_score(y_train, lin_train)\n",
    "    train_score = roc_auc_score(y_test, lin_test)\n",
    "\n",
    "    lin_models.append(lin_reg)\n",
    "    test_scores.append(test_score)\n",
    "    train_scores.append(train_score)\n",
    "\n",
    "\n",
    "print(\"mean score --\", np.mean(test_scores, dtype=\"float16\"), np.std(test_scores).round(4))\n",
    "print(\"mean score --\", np.mean(train_scores, dtype=\"float16\"), np.std(train_scores).round(4))\n",
    "print(\"difference:\", np.mean(train_scores, dtype=\"float16\") - np.mean(test_scores, dtype=\"float16\"))\n",
    "\n",
    "\n",
    "ans = np.array([0]*df_test.shape[0])\n",
    "\n",
    "    \n",
    "for n, model in enumerate(lin_models):\n",
    "    ans = ans + model.predict(df_test.drop(lin_cols, axis=1))\n",
    "    \n",
    "ans = pd.DataFrame(ans, columns = ['apply_promo'])\n",
    "ans.to_csv('lin.csv', index=False)"
   ]
  },
  {
   "cell_type": "code",
   "execution_count": 1727,
   "id": "9a637447-a6b2-4aba-ad9d-83402a6f1456",
   "metadata": {
    "tags": []
   },
   "outputs": [
    {
     "name": "stdout",
     "output_type": "stream",
     "text": [
      "mean score -- 0.8594 0.0225\n",
      "mean score -- 0.9307 0.0676\n",
      "difference: 0.0713\n"
     ]
    }
   ],
   "source": [
    "n_splits = 5\n",
    "xg_models2 = []\n",
    "test_scores = []\n",
    "train_scores = []\n",
    "kf = StratifiedKFold(n_splits=n_splits, shuffle=True, random_state=52)\n",
    "scale_pos_weight = len(y_train[y_train == 0]) / len(y_train[y_train == 1])\n",
    "\n",
    "xg_X = X.drop(xg_cols2, axis=1)\n",
    "\n",
    "for train_index, test_index in kf.split(X=xg_X, y=y):\n",
    "    X_train, X_test = xg_X.iloc[train_index], xg_X.iloc[test_index]\n",
    "    y_train, y_test = y.iloc[train_index], y.iloc[test_index]\n",
    "    \n",
    "    X_val, X_test, y_val, y_test = train_test_split(X_test, y_test, test_size=0.7, random_state=42)\n",
    "    \n",
    "\n",
    "    \n",
    "    xgb = XGBClassifier(\n",
    "        eval_metric=\"auc\",\n",
    "        n_estimators=100000,\n",
    "        random_state=52, \n",
    "        verbosity=0, \n",
    "        scale_pos_weight=scale_pos_weight,\n",
    "        # booster='dart',\n",
    "        # eta = 0.04, \n",
    "        max_depth = 2, \n",
    "        gamma = 0.9,\n",
    "        min_child_weight=13,\n",
    "        # colsample_bylevel=0.5,\n",
    "        # colsample_bytree=0.9,\n",
    "        # colsample_bynode=0.35,\n",
    "        subsample=0.9,\n",
    "        reg_lambda=0.5,\n",
    "        reg_alpha=0.5,\n",
    "        early_stopping_rounds=40\n",
    "    )\n",
    "    xgb.fit(\n",
    "        X_train, y_train, \n",
    "        eval_set=[[X_val, y_val]], \n",
    "        verbose=0\n",
    "    ) \n",
    "    xg_models2.append([xgb, (0, xgb.best_iteration + 1)])\n",
    "\n",
    "    xgb_test_preds = xgb.predict_proba(X_test,\n",
    "                                  iteration_range=(0, xgb.best_iteration + 1))\n",
    "    xgb_train_preds = xgb.predict_proba(X_train,\n",
    "                                   iteration_range=(0, xgb.best_iteration + 1))\n",
    "    \n",
    "    test_score = roc_auc_score(y_test, xgb_test_preds[:, 1])\n",
    "    train_score = roc_auc_score(y_train, xgb_train_preds[:, 1])\n",
    "    test_scores.append(test_score)\n",
    "    train_scores.append(train_score)\n",
    "\n",
    "print(\"mean score --\", np.mean(test_scores, dtype=\"float16\"), np.std(test_scores).round(4))\n",
    "print(\"mean score --\", np.mean(train_scores, dtype=\"float16\"), np.std(train_scores).round(4))\n",
    "print(\"difference:\", np.mean(train_scores, dtype=\"float16\") - np.mean(test_scores, dtype=\"float16\"))\n",
    "\n",
    "\n",
    "ans = np.array([0]*df_test.shape[0])\n",
    "\n",
    "for n, model in enumerate(xg_models2):\n",
    "    ans = ans + model[0].predict_proba(df_test.drop(xg_cols2, axis=1), \n",
    "                                       iteration_range=model[1])[:, 1]\n",
    "    \n",
    "ans = pd.DataFrame(ans, columns = ['apply_promo'])\n",
    "ans.to_csv('best.csv', index=False)"
   ]
  },
  {
   "cell_type": "code",
   "execution_count": 1728,
   "id": "8a0ea361-a03c-4ba2-88b4-fb57c3cf26cd",
   "metadata": {
    "tags": []
   },
   "outputs": [
    {
     "name": "stdout",
     "output_type": "stream",
     "text": [
      "mean score -- 0.8813 0.0168\n",
      "mean score -- 0.991 0.0062\n",
      "difference: 0.10986\n"
     ]
    }
   ],
   "source": [
    "n_splits = 5\n",
    "xg_models = []\n",
    "test_scores = []\n",
    "train_scores = []\n",
    "kf = StratifiedKFold(n_splits=n_splits, shuffle=True, random_state=52)\n",
    "scale_pos_weight = len(y_train[y_train == 0]) / len(y_train[y_train == 1])\n",
    "\n",
    "xg_X = X.drop(xg_cols, axis=1)\n",
    "\n",
    "for train_index, test_index in kf.split(X=xg_X, y=y):\n",
    "    X_train, X_test = xg_X.iloc[train_index], xg_X.iloc[test_index]\n",
    "    y_train, y_test = y.iloc[train_index], y.iloc[test_index]\n",
    "    \n",
    "    X_val, X_test, y_val, y_test = train_test_split(X_test, y_test, test_size=0.7, random_state=42)\n",
    "    \n",
    "\n",
    "    \n",
    "    xgb = XGBClassifier(\n",
    "        eval_metric=\"auc\",\n",
    "        n_estimators=100000,\n",
    "        random_state=52, \n",
    "        verbosity=0, \n",
    "        scale_pos_weight=scale_pos_weight,\n",
    "        # booster='dart',\n",
    "        # eta = 0.04, \n",
    "        max_depth = 3, \n",
    "        gamma = 0.9,\n",
    "        min_child_weight=13,\n",
    "        # colsample_bylevel=0.5,\n",
    "        colsample_bytree=0.5,\n",
    "        # colsample_bynode=0.25,\n",
    "        subsample=0.9,\n",
    "        reg_lambda=0.5,  #<-------------------------------------\n",
    "        reg_alpha=0.5,\n",
    "        early_stopping_rounds=40\n",
    "    )\n",
    "    xgb.fit(\n",
    "        X_train, y_train, \n",
    "        eval_set=[[X_val, y_val]], \n",
    "        verbose=0\n",
    "    ) \n",
    "    xg_models.append([xgb, (0, xgb.best_iteration + 1)])\n",
    "\n",
    "    xgb_test_preds = xgb.predict_proba(X_test,\n",
    "                                  iteration_range=(0, xgb.best_iteration + 1))\n",
    "    xgb_train_preds = xgb.predict_proba(X_train,\n",
    "                                   iteration_range=(0, xgb.best_iteration + 1))\n",
    "    \n",
    "    test_score = roc_auc_score(y_test, xgb_test_preds[:, 1])\n",
    "    train_score = roc_auc_score(y_train, xgb_train_preds[:, 1])\n",
    "    test_scores.append(test_score)\n",
    "    train_scores.append(train_score)\n",
    "\n",
    "print(\"mean score --\", np.mean(test_scores, dtype=\"float16\"), np.std(test_scores).round(4))\n",
    "print(\"mean score --\", np.mean(train_scores, dtype=\"float16\"), np.std(train_scores).round(4))\n",
    "print(\"difference:\", np.mean(train_scores, dtype=\"float16\") - np.mean(test_scores, dtype=\"float16\"))\n",
    "\n",
    "\n",
    "ans = np.array([0]*df_test.shape[0])\n",
    "\n",
    "for n, model in enumerate(xg_models):\n",
    "    ans = ans + model[0].predict_proba(df_test.drop(xg_cols, axis=1), \n",
    "                                       iteration_range=model[1])[:, 1]\n",
    "    \n",
    "ans = pd.DataFrame(ans, columns = ['apply_promo'])\n",
    "ans.to_csv('xg.csv', index=False)"
   ]
  },
  {
   "cell_type": "code",
   "execution_count": 1729,
   "id": "82c14421-90bd-4940-9763-20c6bed863c8",
   "metadata": {
    "tags": []
   },
   "outputs": [
    {
     "name": "stdout",
     "output_type": "stream",
     "text": [
      "mean score -- 0.8506 0.0103\n",
      "mean score -- 0.947 0.0403\n",
      "difference: 0.0962\n"
     ]
    }
   ],
   "source": [
    "n_splits = 5\n",
    "cat_models = []\n",
    "test_scores = []\n",
    "train_scores = []\n",
    "kf = StratifiedKFold(n_splits=n_splits, shuffle=True, random_state=52)\n",
    "scale_pos_weight = len(y_train[y_train == 0]) / len(y_train[y_train == 1])\n",
    "\n",
    "cat_X = X.drop(cat_cols, axis=1)\n",
    "\n",
    "\n",
    "for train_index, test_index in kf.split(X=cat_X, y=y):\n",
    "\n",
    "    \n",
    "    X_train, X_test = cat_X.iloc[train_index], cat_X.iloc[test_index]\n",
    "    y_train, y_test = y.iloc[train_index], y.iloc[test_index]\n",
    "    \n",
    "    X_val, X_test, y_val, y_test = train_test_split(X_test, y_test, test_size=0.7, random_state=42)\n",
    "    \n",
    "\n",
    "    \n",
    "    \n",
    "    clf = CatBoostClassifier(iterations=2000,\n",
    "                             thread_count=-1,\n",
    "                             random_seed=42,\n",
    "                             eta = 0.3,\n",
    "                             eval_metric='AUC',\n",
    "                             l2_leaf_reg=5,\n",
    "                             min_data_in_leaf=15,\n",
    "                             colsample_bylevel=0.5,\n",
    "                             max_bin=20,\n",
    "                             scale_pos_weight=scale_pos_weight,\n",
    "                             subsample =0.8,\n",
    "                             depth = 2\n",
    "                            )\n",
    "\n",
    "    clf.fit(\n",
    "        X_train,\n",
    "        y_train,\n",
    "        eval_set=(X_val, y_val),\n",
    "        verbose=0,\n",
    "        use_best_model=True,\n",
    "        early_stopping_rounds=50,\n",
    "    )\n",
    "\n",
    "    cat_models.append(clf)\n",
    "    clf_test_preds = clf.predict_proba(X_test)\n",
    "    clf_train_preds = clf.predict_proba(X_train)\n",
    "    \n",
    "    test_score = roc_auc_score(y_test, [i[1] for i in clf_test_preds])\n",
    "    train_score = roc_auc_score(y_train, [i[1] for i in clf_train_preds])\n",
    "    test_scores.append(test_score)\n",
    "    train_scores.append(train_score)\n",
    "    # print('test score', test_score)\n",
    "    # print('train score', train_score)\n",
    "    # print()\n",
    "\n",
    "print(\"mean score --\", np.mean(test_scores, dtype=\"float16\"), np.std(test_scores).round(4))\n",
    "print(\"mean score --\", np.mean(train_scores, dtype=\"float16\"), np.std(train_scores).round(4))\n",
    "print(\"difference:\", np.mean(train_scores, dtype=\"float16\") - np.mean(test_scores, dtype=\"float16\"))\n",
    "\n",
    "\n",
    "ans = np.array([0]*df_test.shape[0])\n",
    "\n",
    "\n",
    "for n, model in enumerate(cat_models):\n",
    "    ans = ans + model.predict_proba(df_test.drop(cat_cols, axis=1))[:, 1]\n",
    "    \n",
    "ans = pd.DataFrame(ans, columns = ['apply_promo'])\n",
    "ans.to_csv('cat.csv', index=False)"
   ]
  },
  {
   "cell_type": "code",
   "execution_count": 1730,
   "id": "81471079-53b3-4f28-b733-269e5c91f21a",
   "metadata": {
    "tags": []
   },
   "outputs": [],
   "source": [
    "a = pd.read_csv('cat.csv')\n",
    "c = pd.read_csv('xg.csv')\n",
    "d = pd.read_csv('best.csv')\n",
    "b = pd.read_csv('lin.csv')\n",
    "\n",
    "\n",
    "ans = 1.2 * (a/a.mean()) + 1 * (b/b.mean()) + (c/c.mean()) + 1.8 * (d/d.mean())\n",
    "\n",
    "ans.to_csv('new.csv', index=False)"
   ]
  },
  {
   "cell_type": "code",
   "execution_count": null,
   "id": "5acf0e6a-f2ec-4cb7-bfb5-07c2e73a4091",
   "metadata": {},
   "outputs": [],
   "source": []
  }
 ],
 "metadata": {
  "kernelspec": {
   "display_name": "Python 3 (ipykernel)",
   "language": "python",
   "name": "python3"
  },
  "language_info": {
   "codemirror_mode": {
    "name": "ipython",
    "version": 3
   },
   "file_extension": ".py",
   "mimetype": "text/x-python",
   "name": "python",
   "nbconvert_exporter": "python",
   "pygments_lexer": "ipython3",
   "version": "3.11.5"
  }
 },
 "nbformat": 4,
 "nbformat_minor": 5
}
